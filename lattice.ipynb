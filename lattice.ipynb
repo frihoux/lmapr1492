{
 "cells": [
  {
   "cell_type": "code",
   "execution_count": 11,
   "id": "f11c7310",
   "metadata": {},
   "outputs": [],
   "source": [
    "#Setup\n",
    "from pymatgen.ext.matproj import MPRester\n",
    "from pymatgen.symmetry.analyzer import SpacegroupAnalyzer\n",
    "me = MPRester(\"HXCStrOWivVlWhD5FZf\")\n",
    "my_struct = me.get_structure_by_material_id(\"mp-11520\", conventional_unit_cell=True)\n",
    "sganalysis = SpacegroupAnalyzer(my_struct)"
   ]
  },
  {
   "cell_type": "code",
   "execution_count": 12,
   "id": "4b15b076",
   "metadata": {},
   "outputs": [
    {
     "name": "stdout",
     "output_type": "stream",
     "text": [
      "Réseau direct\n"
     ]
    },
    {
     "data": {
      "text/plain": [
       "Lattice\n",
       "    abc : 6.363544 6.363544 6.363544\n",
       " angles : 90.0 90.0 90.0\n",
       " volume : 257.6897558352913\n",
       "      A : 6.363544 0.0 3.8965468954166725e-16\n",
       "      B : 1.0233359238613863e-15 6.363544 3.8965468954166725e-16\n",
       "      C : 0.0 0.0 6.363544"
      ]
     },
     "execution_count": 12,
     "metadata": {},
     "output_type": "execute_result"
    }
   ],
   "source": [
    "#Lattice\n",
    "print(\"Réseau direct\")\n",
    "my_struct.lattice"
   ]
  },
  {
   "cell_type": "code",
   "execution_count": 13,
   "id": "b7aefcf3",
   "metadata": {},
   "outputs": [
    {
     "name": "stdout",
     "output_type": "stream",
     "text": [
      "Réseau réciproque\n"
     ]
    },
    {
     "data": {
      "text/plain": [
       "Lattice\n",
       "    abc : 0.9873720221278561 0.9873720221278561 0.9873720221278561\n",
       " angles : 90.00000000000001 90.00000000000001 90.00000000000001\n",
       " volume : 0.9625924501280753\n",
       "      A : 0.9873720221278561 -1.5878153124408266e-16 0.0\n",
       "      B : 0.0 0.9873720221278561 0.0\n",
       "      C : -6.045909932332643e-17 -6.045909932332643e-17 0.9873720221278561"
      ]
     },
     "execution_count": 13,
     "metadata": {},
     "output_type": "execute_result"
    }
   ],
   "source": [
    "#Reciprocal lattice\n",
    "print(\"Réseau réciproque\")\n",
    "my_struct.lattice.reciprocal_lattice"
   ]
  },
  {
   "cell_type": "code",
   "execution_count": 14,
   "id": "2dfa3273",
   "metadata": {},
   "outputs": [
    {
     "name": "stdout",
     "output_type": "stream",
     "text": [
      "Maille\n"
     ]
    },
    {
     "data": {
      "text/plain": [
       "'cubic'"
      ]
     },
     "execution_count": 14,
     "metadata": {},
     "output_type": "execute_result"
    }
   ],
   "source": [
    "#Type de maille\n",
    "print(\"Maille\")\n",
    "sganalysis.get_lattice_type()"
   ]
  },
  {
   "cell_type": "code",
   "execution_count": 15,
   "id": "3b4fa258",
   "metadata": {},
   "outputs": [
    {
     "name": "stdout",
     "output_type": "stream",
     "text": [
      "Système cristallin\n"
     ]
    },
    {
     "data": {
      "text/plain": [
       "'cubic'"
      ]
     },
     "execution_count": 15,
     "metadata": {},
     "output_type": "execute_result"
    }
   ],
   "source": [
    "#Système cristallin\n",
    "print(\"Système cristallin\")\n",
    "sganalysis.get_crystal_system()"
   ]
  },
  {
   "cell_type": "code",
   "execution_count": 16,
   "id": "98a2b1f3",
   "metadata": {},
   "outputs": [
    {
     "name": "stdout",
     "output_type": "stream",
     "text": [
      "groupe ponctuel\n"
     ]
    },
    {
     "data": {
      "text/plain": [
       "'-43m'"
      ]
     },
     "execution_count": 16,
     "metadata": {},
     "output_type": "execute_result"
    }
   ],
   "source": [
    "#Groupe ponctuel\n",
    "print(\"groupe ponctuel\")\n",
    "sganalysis.get_point_group_symbol()"
   ]
  },
  {
   "cell_type": "code",
   "execution_count": null,
   "id": "10a4f3b1",
   "metadata": {},
   "outputs": [],
   "source": []
  }
 ],
 "metadata": {
  "kernelspec": {
   "display_name": "Python 3",
   "language": "python",
   "name": "python3"
  },
  "language_info": {
   "codemirror_mode": {
    "name": "ipython",
    "version": 3
   },
   "file_extension": ".py",
   "mimetype": "text/x-python",
   "name": "python",
   "nbconvert_exporter": "python",
   "pygments_lexer": "ipython3",
   "version": "3.6.8"
  }
 },
 "nbformat": 4,
 "nbformat_minor": 5
}
