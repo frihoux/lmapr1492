{
 "cells": [
  {
   "cell_type": "code",
   "execution_count": 26,
   "id": "3b412ba9",
   "metadata": {},
   "outputs": [],
   "source": [
    "#setup\n",
    "from pymatgen.ext.matproj import MPRester\n",
    "from IPython.display import Image\n",
    "from jupyter_jsmol import JsmolView\n",
    "from pprint import pprint\n",
    "from pymatgen.core.operations import SymmOp"
   ]
  },
  {
   "cell_type": "code",
   "execution_count": 27,
   "id": "10319683",
   "metadata": {},
   "outputs": [],
   "source": [
    "#stucture downloading\n",
    "me = MPRester(\"HXCStrOWivVlWhD5FZf\")\n",
    "structure = me.get_structure_by_material_id(\"mp-11520\")"
   ]
  },
  {
   "cell_type": "code",
   "execution_count": 28,
   "id": "4e7688f6",
   "metadata": {},
   "outputs": [
    {
     "name": "stdout",
     "output_type": "stream",
     "text": [
      "[PeriodicSite: Y (3.1818, 3.1818, 3.1818) [0.5000, 0.5000, 0.5000], PeriodicSite: Ni (1.5909, 1.5909, 1.5909) [0.2500, 0.2500, 0.2500], PeriodicSite: Sb (0.0000, 0.0000, 0.0000) [0.0000, 0.0000, 0.0000]]\n"
     ]
    }
   ],
   "source": [
    "pos = structure.sites[:]\n",
    "print(pos)"
   ]
  },
  {
   "cell_type": "code",
   "execution_count": 29,
   "id": "c098d891",
   "metadata": {},
   "outputs": [
    {
     "name": "stdout",
     "output_type": "stream",
     "text": [
      "Rotation\n",
      "Position initiale de l'atome de Ni[0.25 0.25 0.25]\n",
      "Matrice de rotation\n",
      "[[ 1. -1.  0.]\n",
      " [ 0. -1.  0.]\n",
      " [ 0.  0. -1.]]\n",
      "Vecteur de translation\n",
      "[0. 0. 0.]\n",
      "Position de la symétrie[ 0.   -0.25 -0.25]\n"
     ]
    },
    {
     "data": {
      "application/vnd.jupyter.widget-view+json": {
       "model_id": "cb2d2c3ed7fe4f098f7f0e799056c5ad",
       "version_major": 2,
       "version_minor": 0
      },
      "text/plain": [
       "JsmolView(layout=Layout(align_self='stretch', height='400px'))"
      ]
     },
     "metadata": {},
     "output_type": "display_data"
    }
   ],
   "source": [
    "#1re symmétrie : rotation\n",
    "print(\"Rotation\")\n",
    "rot = SymmOp.from_xyz_string(\"x-y,-y,-z\")\n",
    "pos_init = structure.sites[1].frac_coords #atome de Ni 1\n",
    "res = rot.operate(pos_init)\n",
    "print (\"Position initiale de l'atome de Ni\"+ str(pos_init))\n",
    "print (\"Matrice de rotation\")\n",
    "print(rot.rotation_matrix)\n",
    "print(\"Vecteur de translation\")\n",
    "print(rot.translation_vector)\n",
    "print (\"Position de la symétrie\"+ str(res))\n",
    "#jsmol\n",
    "view1 = JsmolView.from_str(structure.to('cif'), \"{1,1,1}\")\n",
    "\n",
    "display(view1)"
   ]
  },
  {
   "cell_type": "code",
   "execution_count": 30,
   "id": "1005bd42",
   "metadata": {},
   "outputs": [
    {
     "name": "stdout",
     "output_type": "stream",
     "text": [
      "Translation\n",
      "Position initiale de l'atome de Y[0.5 0.5 0.5]\n",
      "Matrice de rotation\n",
      "[[2. 0. 0.]\n",
      " [0. 2. 0.]\n",
      " [0. 0. 2.]]\n",
      "Vecteur de translation\n",
      "[0. 0. 0.]\n",
      "Position de la symétrie[1. 1. 1.]\n"
     ]
    },
    {
     "data": {
      "application/vnd.jupyter.widget-view+json": {
       "model_id": "b6bb0f931cf142cb9a3b7b0ac9dab171",
       "version_major": 2,
       "version_minor": 0
      },
      "text/plain": [
       "JsmolView(layout=Layout(align_self='stretch', height='400px'))"
      ]
     },
     "metadata": {},
     "output_type": "display_data"
    }
   ],
   "source": [
    "#seconde symmétrie : translation\n",
    "print(\"Translation\")\n",
    "tr = SymmOp.from_xyz_string(\"2x,2y,2z\")\n",
    "pos_init2 = structure.sites[0].frac_coords #atome de Y 1\n",
    "res2 = tr.operate(pos_init2)\n",
    "print(\"Position initiale de l'atome de Y\" + str(pos_init2))\n",
    "print (\"Matrice de rotation\")\n",
    "print(tr.rotation_matrix)\n",
    "print(\"Vecteur de translation\")\n",
    "print(tr.translation_vector)\n",
    "print(\"Position de la symétrie\" + str(res2))\n",
    "view2 = JsmolView.from_str(structure.to('cif'), \"{2,2,2}\")\n",
    "display(view2)"
   ]
  },
  {
   "cell_type": "code",
   "execution_count": 31,
   "id": "8ab2a963",
   "metadata": {},
   "outputs": [
    {
     "name": "stdout",
     "output_type": "stream",
     "text": [
      "Réflexion\n",
      "Position initiale de l'atome de Sb[0. 0. 0.]\n",
      "Matrice de rotation\n",
      "[[ 1.  0.  0.]\n",
      " [ 0. -1.  0.]\n",
      " [ 0.  0. -1.]]\n",
      "Vecteur de translation\n",
      "[0. 0. 0.]\n",
      "Position de la symétrie[0. 0. 0.]\n"
     ]
    },
    {
     "data": {
      "application/vnd.jupyter.widget-view+json": {
       "model_id": "0439f89630814a069d1f3d4ff5a67bbd",
       "version_major": 2,
       "version_minor": 0
      },
      "text/plain": [
       "JsmolView(layout=Layout(align_self='stretch', height='400px'))"
      ]
     },
     "metadata": {},
     "output_type": "display_data"
    }
   ],
   "source": [
    "#troisième symmétrie : réflexion\n",
    "print(\"Réflexion\")\n",
    "ref = SymmOp.from_xyz_string(\"x,-y,-z\")\n",
    "pos_init3 = structure.sites[2].frac_coords #atome de Sb 1\n",
    "res3 = ref.operate(pos_init3)\n",
    "print(\"Position initiale de l'atome de Sb\" + str(pos_init3))\n",
    "print (\"Matrice de rotation\")\n",
    "print(ref.rotation_matrix)\n",
    "print(\"Vecteur de translation\")\n",
    "print(ref.translation_vector)\n",
    "print(\"Position de la symétrie\" + str(res3))\n",
    "view3 = JsmolView.from_str(structure.to('cif'), \"{2,2,2}\")\n",
    "display(view3)"
   ]
  },
  {
   "cell_type": "code",
   "execution_count": null,
   "id": "49a19590",
   "metadata": {},
   "outputs": [],
   "source": []
  }
 ],
 "metadata": {
  "kernelspec": {
   "display_name": "Python 3",
   "language": "python",
   "name": "python3"
  },
  "language_info": {
   "codemirror_mode": {
    "name": "ipython",
    "version": 3
   },
   "file_extension": ".py",
   "mimetype": "text/x-python",
   "name": "python",
   "nbconvert_exporter": "python",
   "pygments_lexer": "ipython3",
   "version": "3.6.8"
  }
 },
 "nbformat": 4,
 "nbformat_minor": 5
}
