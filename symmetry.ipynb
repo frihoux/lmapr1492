{
 "cells": [
  {
   "cell_type": "code",
   "execution_count": 24,
   "id": "3b412ba9",
   "metadata": {},
   "outputs": [],
   "source": [
    "#setup\n",
    "from pymatgen import Structure\n",
    "from jupyter_jsmol.pymatgen import quick_view\n",
    "from pymatgen.ext.matproj import MPRester\n",
    "from IPython.display import display\n",
    "from jupyter_jsmol import JsmolView\n",
    "from pymatgen.io.cif import CifWriter"
   ]
  },
  {
   "cell_type": "code",
   "execution_count": 25,
   "id": "10319683",
   "metadata": {},
   "outputs": [],
   "source": [
    "#stucture\n",
    "m = MPRester(\"HXCStrOWivVlWhD5FZf\")\n",
    "structure = m.get_structure_by_material_id(\"mp-15724\")\n",
    "w = CifWriter(structure, 0.1)\n",
    "w.write_file('ma_structure.cif')"
   ]
  },
  {
   "cell_type": "code",
   "execution_count": 26,
   "id": "c098d891",
   "metadata": {},
   "outputs": [],
   "source": [
    "#param\n",
    "K = [0.0,0.5,0.0]\n",
    "Na = [0.25,0.25,0.25]\n",
    "Sb = [0.0,0.0,0.0]"
   ]
  },
  {
   "cell_type": "code",
   "execution_count": 27,
   "id": "1005bd42",
   "metadata": {},
   "outputs": [
    {
     "name": "stdout",
     "output_type": "stream",
     "text": [
      "cette symmétrie est une réflexion de l'atome de K selon l'axe z\n"
     ]
    },
    {
     "ename": "NameError",
     "evalue": "name 'SymmOp' is not defined",
     "output_type": "error",
     "traceback": [
      "\u001b[0;31m---------------------------------------------------------------------------\u001b[0m",
      "\u001b[0;31mNameError\u001b[0m                                 Traceback (most recent call last)",
      "\u001b[0;32m<ipython-input-27-5b9fb05d06a8>\u001b[0m in \u001b[0;36m<module>\u001b[0;34m\u001b[0m\n\u001b[1;32m      1\u001b[0m \u001b[0;31m#première relation symmétrie du K : x ,y, -z\u001b[0m\u001b[0;34m\u001b[0m\u001b[0;34m\u001b[0m\u001b[0;34m\u001b[0m\u001b[0m\n\u001b[1;32m      2\u001b[0m \u001b[0mprint\u001b[0m\u001b[0;34m(\u001b[0m\u001b[0;34m\"cette symmétrie est une réflexion de l'atome de K selon l'axe z\"\u001b[0m\u001b[0;34m)\u001b[0m\u001b[0;34m\u001b[0m\u001b[0;34m\u001b[0m\u001b[0m\n\u001b[0;32m----> 3\u001b[0;31m \u001b[0msym1\u001b[0m \u001b[0;34m=\u001b[0m \u001b[0mSymmOp\u001b[0m\u001b[0;34m.\u001b[0m\u001b[0mfrom_xyz_string\u001b[0m\u001b[0;34m(\u001b[0m\u001b[0;34m'x, y, -z'\u001b[0m\u001b[0;34m)\u001b[0m\u001b[0;34m\u001b[0m\u001b[0;34m\u001b[0m\u001b[0m\n\u001b[0m\u001b[1;32m      4\u001b[0m \u001b[0mop1\u001b[0m \u001b[0;34m=\u001b[0m \u001b[0msym1\u001b[0m\u001b[0;34m.\u001b[0m\u001b[0moperate\u001b[0m\u001b[0;34m(\u001b[0m\u001b[0mK\u001b[0m\u001b[0;34m)\u001b[0m\u001b[0;34m\u001b[0m\u001b[0;34m\u001b[0m\u001b[0m\n\u001b[1;32m      5\u001b[0m \u001b[0mprint\u001b[0m\u001b[0;34m(\u001b[0m\u001b[0;34m\"matrice de rotation : {}\"\u001b[0m\u001b[0;34m.\u001b[0m\u001b[0mformat\u001b[0m\u001b[0;34m(\u001b[0m\u001b[0msym1\u001b[0m\u001b[0;34m.\u001b[0m\u001b[0mrotation_matrix\u001b[0m\u001b[0;34m)\u001b[0m\u001b[0;34m)\u001b[0m\u001b[0;34m\u001b[0m\u001b[0;34m\u001b[0m\u001b[0m\n",
      "\u001b[0;31mNameError\u001b[0m: name 'SymmOp' is not defined"
     ]
    }
   ],
   "source": [
    "#première relation symmétrie du K : x ,y, -z\n",
    "print(\"cette symmétrie est une réflexion de l'atome de K selon l'axe z\")\n",
    "sym1 = SymmOp.from_xyz_string('x, y, -z')\n",
    "op1 = sym1.operate(K)\n",
    "print(\"matrice de rotation : {}\".format(sym1.rotation_matrix))\n",
    "print(\"vecteur de translation : [0,0,0]\")\n",
    "print(\"l'atome se retrouve en : {}\".format(op1))\n",
    "view = quick_view(Structure.from_file('ma_structure.cif'))\n",
    "display(view)"
   ]
  },
  {
   "cell_type": "code",
   "execution_count": null,
   "id": "8ab2a963",
   "metadata": {},
   "outputs": [],
   "source": [
    "#deuxième relation de symmétrie du Na : x, y, -z\n",
    "print(\"cette symmétrie est une réflexion de l'atome de Na selon l'axe z\")\n",
    "sym2 = SymmOp.from_xyz_string('x, y, -z')\n",
    "op2 = sym2.operate(Na)\n",
    "print(\"matrice de rotation : {}\".format(sym2.rotation_matrix))\n",
    "print(\"vecteur de translation : [0,0,0]\")\n",
    "print(\"l'atome se retrouve en : {}\".format(op2))\n",
    "view = quick_view(Structure.from_file('ma_structure.cif'))\n",
    "display(view)"
   ]
  },
  {
   "cell_type": "code",
   "execution_count": null,
   "id": "49a19590",
   "metadata": {},
   "outputs": [],
   "source": [
    "#3e relation de symmétrie du Sb : -x,y,z\n",
    "print(\"cette symmétrie est une réflexion de l'atome de Sb selon l'axe x\")\n",
    "sym3 = SymmOp.from_xyz_string(\"-x, y, z')\n",
    "op3 = sym3.operate(Na)\n",
    "print(\"matrice de rotation : {}\".format(sym3.rotation_matrix))\n",
    "print(\"vecteur de translation : [0,0,0]\")\n",
    "print(\"l'atome se retrouve en : {}\".format(op3))\n",
    "view = quick_view(Structure.from_file('ma_structure.cif'))\n",
    "display(view)"
   ]
  }
 ],
 "metadata": {
  "kernelspec": {
   "display_name": "Python 3",
   "language": "python",
   "name": "python3"
  },
  "language_info": {
   "codemirror_mode": {
    "name": "ipython",
    "version": 3
   },
   "file_extension": ".py",
   "mimetype": "text/x-python",
   "name": "python",
   "nbconvert_exporter": "python",
   "pygments_lexer": "ipython3",
   "version": "3.6.8"
  }
 },
 "nbformat": 4,
 "nbformat_minor": 5
}
