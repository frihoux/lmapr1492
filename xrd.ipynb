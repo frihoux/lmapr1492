{
 "cells": [
  {
   "cell_type": "code",
   "execution_count": null,
   "id": "02af49fe",
   "metadata": {},
   "outputs": [],
   "source": [
    "#imports\n",
    "from pymatgen.ext.matproj import MPRester\n",
    "from pymatgen.analysis.diffraction.xrd import XRDCalculator"
   ]
  },
  {
   "cell_type": "code",
   "execution_count": null,
   "id": "2474d32e",
   "metadata": {},
   "outputs": [],
   "source": [
    "#setup\n",
    "me = MPRester(\"HXCStrOWivVlWhD5FZf\")\n",
    "structure = me.get_structure_by_material_id(\"mp-11520\")"
   ]
  },
  {
   "cell_type": "code",
   "execution_count": null,
   "id": "08ac1f89",
   "metadata": {},
   "outputs": [],
   "source": [
    "#diffraction computing\n",
    "calculator = XRDcalculator(1.54060) #création d'un calculateur xrd pour la longueur d'onde désirée\n",
    "diffract = calculator.get_pattern(structure) #calcul de la diffraction"
   ]
  },
  {
   "cell_type": "code",
   "execution_count": null,
   "id": "49c3d384",
   "metadata": {},
   "outputs": [],
   "source": [
    "#3 first pics recuperation\n",
    "print(\"Pic : 1\")\n",
    "print(\"Intensité : \"+str(dif.y[0]))\n",
    "print(\"Angle : \"+str(dif.x[0]))\n",
    "print(\"Indices hkl : \"+str(dif.hkls[0][0][\"hkl\"]))\n",
    "print(\"Multiplicité : \"+str(dif.hkls[0][0][\"multiplicity\"]))\n",
    "print(\" \")\n",
    "print(\"Pic : 2\")\n",
    "print(\"Intensité : \"+str(dif.y[1]))\n",
    "print(\"Angle : \"+str(dif.x[1]))\n",
    "print(\"Indices hkl : \"+str(dif.hkls[1][0][\"hkl\"]))\n",
    "print(\"Multiplicité : \"+str(dif.hkls[1][0][\"multiplicity\"]))\n",
    "print(\" \")\n",
    "print(\"Pic : 3\")\n",
    "print(\"Intensité : \"+str(dif.y[2]))\n",
    "print(\"Angle : \"+str(dif.x[2]))\n",
    "print(\"Indices hkl : \"+str(dif.hkls[2][0][\"hkl\"]))\n",
    "print(\"Multiplicité : \"+str(dif.hkls[2][0][\"multiplicity\"]))\n",
    "print(\" \")\n",
    "#plotting\n",
    "xrd.show_plot(structure, two_theta_range=[0,180])"
   ]
  }
 ],
 "metadata": {
  "kernelspec": {
   "display_name": "Python 3 (ipykernel)",
   "language": "python",
   "name": "python3"
  },
  "language_info": {
   "codemirror_mode": {
    "name": "ipython",
    "version": 3
   },
   "file_extension": ".py",
   "mimetype": "text/x-python",
   "name": "python",
   "nbconvert_exporter": "python",
   "pygments_lexer": "ipython3",
   "version": "3.9.16"
  }
 },
 "nbformat": 4,
 "nbformat_minor": 5
}
