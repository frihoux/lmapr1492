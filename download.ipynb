{
 "cells": [
  {
   "cell_type": "code",
   "execution_count": 2,
   "id": "6ec445fa",
   "metadata": {},
   "outputs": [],
   "source": [
    "from pymatgen.ext.matproj import MPRester\n",
    "from pymatgen.io.cif import CifWriter\n",
    "from IPython.display import FileLink"
   ]
  },
  {
   "cell_type": "code",
   "execution_count": 4,
   "id": "78e399b7",
   "metadata": {},
   "outputs": [
    {
     "data": {
      "text/html": [
       "<a href='mp-11520.cif' target='_blank'>mp-11520.cif</a><br>"
      ],
      "text/plain": [
       "/home/users/f/r/frihoux/mp-11520.cif"
      ]
     },
     "metadata": {},
     "output_type": "display_data"
    }
   ],
   "source": [
    "Key = \"HXCStrOWivVlWhD5FZf\"\n",
    "mat = \"mp-11520\"\n",
    "m = MPRester(Key)\n",
    "s = m.get_structure_by_material_id(mat,conventional_unit_cell=True)\n",
    "doc = CifWriter(s)\n",
    "doc.write_file(mat+\".cif\")\n",
    "display(FileLink(mat+\".cif\"))"
   ]
  },
  {
   "cell_type": "code",
   "execution_count": null,
   "id": "88a4fad9",
   "metadata": {},
   "outputs": [],
   "source": []
  }
 ],
 "metadata": {
  "kernelspec": {
   "display_name": "Python 3",
   "language": "python",
   "name": "python3"
  },
  "language_info": {
   "codemirror_mode": {
    "name": "ipython",
    "version": 3
   },
   "file_extension": ".py",
   "mimetype": "text/x-python",
   "name": "python",
   "nbconvert_exporter": "python",
   "pygments_lexer": "ipython3",
   "version": "3.6.8"
  }
 },
 "nbformat": 4,
 "nbformat_minor": 5
}
